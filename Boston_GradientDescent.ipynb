{
 "cells": [
  {
   "cell_type": "code",
   "execution_count": 1,
   "id": "385dc6db",
   "metadata": {},
   "outputs": [
    {
     "data": {
      "text/plain": [
       "array([[-0.40784991, -0.48772236, -1.2660231 , ...,  0.41057102,\n",
       "        -1.09799011, 37.9       ],\n",
       "       [-0.40737368, -0.48772236,  0.24705682, ...,  0.29116915,\n",
       "        -0.52047412, 21.4       ],\n",
       "       [ 0.1251786 , -0.48772236,  1.01599907, ..., -3.79579542,\n",
       "         0.89107588, 12.7       ],\n",
       "       ...,\n",
       "       [-0.40831101, -0.48772236,  0.24705682, ...,  0.33206621,\n",
       "        -0.33404299, 20.8       ],\n",
       "       [-0.41061997, -0.48772236, -1.15221381, ...,  0.203235  ,\n",
       "        -0.74475218, 22.6       ],\n",
       "       [ 0.34290895, -0.48772236,  1.01599907, ...,  0.38787479,\n",
       "        -1.35871335, 50.        ]])"
      ]
     },
     "execution_count": 1,
     "metadata": {},
     "output_type": "execute_result"
    }
   ],
   "source": [
    "import numpy as np\n",
    "\n",
    "data=np.loadtxt('training_boston_x_y_train.csv',delimiter=\",\")\n",
    "data"
   ]
  },
  {
   "cell_type": "code",
   "execution_count": 2,
   "id": "aacf98e4",
   "metadata": {},
   "outputs": [
    {
     "data": {
      "text/plain": [
       "array([[-0.40784991, -0.48772236, -1.2660231 , ..., -0.30309415,\n",
       "         0.41057102, -1.09799011],\n",
       "       [-0.40737368, -0.48772236,  0.24705682, ...,  0.1130321 ,\n",
       "         0.29116915, -0.52047412],\n",
       "       [ 0.1251786 , -0.48772236,  1.01599907, ...,  0.80657583,\n",
       "        -3.79579542,  0.89107588],\n",
       "       ...,\n",
       "       [-0.40831101, -0.48772236,  0.24705682, ...,  0.1130321 ,\n",
       "         0.33206621, -0.33404299],\n",
       "       [-0.41061997, -0.48772236, -1.15221381, ..., -0.71922039,\n",
       "         0.203235  , -0.74475218],\n",
       "       [ 0.34290895, -0.48772236,  1.01599907, ...,  0.80657583,\n",
       "         0.38787479, -1.35871335]])"
      ]
     },
     "execution_count": 2,
     "metadata": {},
     "output_type": "execute_result"
    }
   ],
   "source": [
    "x_train=data[:,:13]\n",
    "x_train"
   ]
  },
  {
   "cell_type": "code",
   "execution_count": 3,
   "id": "ff29f0ed",
   "metadata": {},
   "outputs": [
    {
     "data": {
      "text/plain": [
       "(379, 26)"
      ]
     },
     "execution_count": 3,
     "metadata": {},
     "output_type": "execute_result"
    }
   ],
   "source": [
    "from sklearn import preprocessing\n",
    "sq=[]\n",
    "for i in x_train:\n",
    "    sq.append(i**2)\n",
    "sq=np.array(sq)\n",
    "x_train=np.append(x_train, sq, axis=1)\n",
    "\n",
    "scaler=preprocessing.StandardScaler()\n",
    "scaler.fit(x_train)\n",
    "x_train=scaler.transform(x_train)\n",
    "x_train.shape"
   ]
  },
  {
   "cell_type": "code",
   "execution_count": 4,
   "id": "111eb6aa",
   "metadata": {},
   "outputs": [
    {
     "data": {
      "text/plain": [
       "(379,)"
      ]
     },
     "execution_count": 4,
     "metadata": {},
     "output_type": "execute_result"
    }
   ],
   "source": [
    "y_train=data[:,13]\n",
    "y_train.shape"
   ]
  },
  {
   "cell_type": "code",
   "execution_count": 5,
   "id": "6f5bb28a",
   "metadata": {},
   "outputs": [
    {
     "data": {
      "text/html": [
       "<style>#sk-container-id-1 {color: black;background-color: white;}#sk-container-id-1 pre{padding: 0;}#sk-container-id-1 div.sk-toggleable {background-color: white;}#sk-container-id-1 label.sk-toggleable__label {cursor: pointer;display: block;width: 100%;margin-bottom: 0;padding: 0.3em;box-sizing: border-box;text-align: center;}#sk-container-id-1 label.sk-toggleable__label-arrow:before {content: \"▸\";float: left;margin-right: 0.25em;color: #696969;}#sk-container-id-1 label.sk-toggleable__label-arrow:hover:before {color: black;}#sk-container-id-1 div.sk-estimator:hover label.sk-toggleable__label-arrow:before {color: black;}#sk-container-id-1 div.sk-toggleable__content {max-height: 0;max-width: 0;overflow: hidden;text-align: left;background-color: #f0f8ff;}#sk-container-id-1 div.sk-toggleable__content pre {margin: 0.2em;color: black;border-radius: 0.25em;background-color: #f0f8ff;}#sk-container-id-1 input.sk-toggleable__control:checked~div.sk-toggleable__content {max-height: 200px;max-width: 100%;overflow: auto;}#sk-container-id-1 input.sk-toggleable__control:checked~label.sk-toggleable__label-arrow:before {content: \"▾\";}#sk-container-id-1 div.sk-estimator input.sk-toggleable__control:checked~label.sk-toggleable__label {background-color: #d4ebff;}#sk-container-id-1 div.sk-label input.sk-toggleable__control:checked~label.sk-toggleable__label {background-color: #d4ebff;}#sk-container-id-1 input.sk-hidden--visually {border: 0;clip: rect(1px 1px 1px 1px);clip: rect(1px, 1px, 1px, 1px);height: 1px;margin: -1px;overflow: hidden;padding: 0;position: absolute;width: 1px;}#sk-container-id-1 div.sk-estimator {font-family: monospace;background-color: #f0f8ff;border: 1px dotted black;border-radius: 0.25em;box-sizing: border-box;margin-bottom: 0.5em;}#sk-container-id-1 div.sk-estimator:hover {background-color: #d4ebff;}#sk-container-id-1 div.sk-parallel-item::after {content: \"\";width: 100%;border-bottom: 1px solid gray;flex-grow: 1;}#sk-container-id-1 div.sk-label:hover label.sk-toggleable__label {background-color: #d4ebff;}#sk-container-id-1 div.sk-serial::before {content: \"\";position: absolute;border-left: 1px solid gray;box-sizing: border-box;top: 0;bottom: 0;left: 50%;z-index: 0;}#sk-container-id-1 div.sk-serial {display: flex;flex-direction: column;align-items: center;background-color: white;padding-right: 0.2em;padding-left: 0.2em;position: relative;}#sk-container-id-1 div.sk-item {position: relative;z-index: 1;}#sk-container-id-1 div.sk-parallel {display: flex;align-items: stretch;justify-content: center;background-color: white;position: relative;}#sk-container-id-1 div.sk-item::before, #sk-container-id-1 div.sk-parallel-item::before {content: \"\";position: absolute;border-left: 1px solid gray;box-sizing: border-box;top: 0;bottom: 0;left: 50%;z-index: -1;}#sk-container-id-1 div.sk-parallel-item {display: flex;flex-direction: column;z-index: 1;position: relative;background-color: white;}#sk-container-id-1 div.sk-parallel-item:first-child::after {align-self: flex-end;width: 50%;}#sk-container-id-1 div.sk-parallel-item:last-child::after {align-self: flex-start;width: 50%;}#sk-container-id-1 div.sk-parallel-item:only-child::after {width: 0;}#sk-container-id-1 div.sk-dashed-wrapped {border: 1px dashed gray;margin: 0 0.4em 0.5em 0.4em;box-sizing: border-box;padding-bottom: 0.4em;background-color: white;}#sk-container-id-1 div.sk-label label {font-family: monospace;font-weight: bold;display: inline-block;line-height: 1.2em;}#sk-container-id-1 div.sk-label-container {text-align: center;}#sk-container-id-1 div.sk-container {/* jupyter's `normalize.less` sets `[hidden] { display: none; }` but bootstrap.min.css set `[hidden] { display: none !important; }` so we also need the `!important` here to be able to override the default hidden behavior on the sphinx rendered scikit-learn.org. See: https://github.com/scikit-learn/scikit-learn/issues/21755 */display: inline-block !important;position: relative;}#sk-container-id-1 div.sk-text-repr-fallback {display: none;}</style><div id=\"sk-container-id-1\" class=\"sk-top-container\"><div class=\"sk-text-repr-fallback\"><pre>GradientBoostingRegressor()</pre><b>In a Jupyter environment, please rerun this cell to show the HTML representation or trust the notebook. <br />On GitHub, the HTML representation is unable to render, please try loading this page with nbviewer.org.</b></div><div class=\"sk-container\" hidden><div class=\"sk-item\"><div class=\"sk-estimator sk-toggleable\"><input class=\"sk-toggleable__control sk-hidden--visually\" id=\"sk-estimator-id-1\" type=\"checkbox\" checked><label for=\"sk-estimator-id-1\" class=\"sk-toggleable__label sk-toggleable__label-arrow\">GradientBoostingRegressor</label><div class=\"sk-toggleable__content\"><pre>GradientBoostingRegressor()</pre></div></div></div></div></div>"
      ],
      "text/plain": [
       "GradientBoostingRegressor()"
      ]
     },
     "execution_count": 5,
     "metadata": {},
     "output_type": "execute_result"
    }
   ],
   "source": [
    "from sklearn.ensemble import GradientBoostingRegressor\n",
    "model = GradientBoostingRegressor()\n",
    "model.fit(x_train,y_train)"
   ]
  },
  {
   "cell_type": "code",
   "execution_count": 6,
   "id": "f6cd0f97",
   "metadata": {},
   "outputs": [
    {
     "data": {
      "text/plain": [
       "(127, 13)"
      ]
     },
     "execution_count": 6,
     "metadata": {},
     "output_type": "execute_result"
    }
   ],
   "source": [
    "data2=np.loadtxt('test_boston_x_test.csv',delimiter=\",\")\n",
    "x_test=data2\n",
    "x_test.shape"
   ]
  },
  {
   "cell_type": "code",
   "execution_count": 7,
   "id": "39a71403",
   "metadata": {},
   "outputs": [
    {
     "data": {
      "text/plain": [
       "(127, 26)"
      ]
     },
     "execution_count": 7,
     "metadata": {},
     "output_type": "execute_result"
    }
   ],
   "source": [
    "sq=[]\n",
    "for i in x_test:\n",
    "    sq.append(i**2)\n",
    "sq=np.array(sq)\n",
    "x_test=np.append(x_test, sq, axis=1)\n",
    "\n",
    "scaler=preprocessing.StandardScaler()\n",
    "scaler.fit(x_test)\n",
    "x_test=scaler.transform(x_test)\n",
    "x_test.shape"
   ]
  },
  {
   "cell_type": "code",
   "execution_count": 8,
   "id": "7fb92e46",
   "metadata": {},
   "outputs": [
    {
     "data": {
      "text/plain": [
       "array([10.66987087, 27.38631592, 23.33102818, 23.64557325, 20.95829987,\n",
       "       21.29394593, 25.88813172, 27.37973602, 20.94264528, 23.75837557,\n",
       "       22.73893105, 21.17098686, 21.24766881, 21.61658242, 48.9577193 ,\n",
       "       22.96757794, 24.13882258, 24.01097827, 20.25916804, 32.61744238,\n",
       "       22.13418318, 21.84172233, 39.30785897, 32.52160228, 34.46126671,\n",
       "       17.7867608 , 19.69459839, 29.73693795, 19.84695024, 27.36736205,\n",
       "       19.29967674, 24.24841791, 24.88523782, 23.86539784, 13.3829787 ,\n",
       "       23.78743791, 23.51966989, 20.1391323 , 23.2805643 ,  7.53702396,\n",
       "       12.77783896, 25.22147856, 26.122706  , 21.58017325, 22.46260729,\n",
       "       11.42769089, 41.37424696, 26.00523158, 34.03725176, 10.63660422,\n",
       "       12.48866059, 44.82776208, 12.13990535, 22.0677279 , 18.04033611,\n",
       "       20.4412471 , 19.93126443, 23.89223328, 17.53563984, 14.50062927,\n",
       "       13.06439279, 30.65777061, 22.47702192, 22.70972851, 15.2181358 ,\n",
       "       15.35584912, 27.37919158, 12.97707345, 21.53082039, 21.9989634 ,\n",
       "       27.31175191, 22.70742137, 20.54251853,  7.85026218, 39.7566074 ,\n",
       "       22.25060603, 27.63067311, 23.98383267, 13.34892591, 33.3268108 ,\n",
       "       20.53178517, 22.043248  , 20.93868163, 18.63266843, 16.93723213,\n",
       "       35.70624298, 26.47131421,  7.86553364, 20.27122443, 16.69984638,\n",
       "       23.25810372, 20.43074034, 19.79282474, 11.78164518, 22.27381005,\n",
       "       34.33345647, 43.70644877, 19.40160744, 35.90264195, 23.41003412,\n",
       "       24.57798524, 21.2850413 , 21.56129474, 26.47648104, 14.02818781,\n",
       "       24.79676929, 21.8932793 , 42.15225341, 22.2873494 , 13.48293799,\n",
       "       22.8925581 , 12.83332321, 18.09628922, 17.89117048, 41.92531513,\n",
       "       18.07972623, 23.50210167, 23.54948566, 21.98932682, 25.85282305,\n",
       "       16.27314995, 33.23939008, 22.84275592, 22.03295024, 21.52035097,\n",
       "       19.43149823, 15.4332332 ])"
      ]
     },
     "execution_count": 8,
     "metadata": {},
     "output_type": "execute_result"
    }
   ],
   "source": [
    "y_pred = model.predict(x_test)\n",
    "y_pred"
   ]
  },
  {
   "cell_type": "code",
   "execution_count": 9,
   "id": "f70a6d95",
   "metadata": {},
   "outputs": [
    {
     "data": {
      "text/plain": [
       "array([10.66987, 27.38632, 23.33103, 23.64557, 20.9583 , 21.29395,\n",
       "       25.88813, 27.37974, 20.94265, 23.75838, 22.73893, 21.17099,\n",
       "       21.24767, 21.61658, 48.95772, 22.96758, 24.13882, 24.01098,\n",
       "       20.25917, 32.61744, 22.13418, 21.84172, 39.30786, 32.5216 ,\n",
       "       34.46127, 17.78676, 19.6946 , 29.73694, 19.84695, 27.36736,\n",
       "       19.29968, 24.24842, 24.88524, 23.8654 , 13.38298, 23.78744,\n",
       "       23.51967, 20.13913, 23.28056,  7.53702, 12.77784, 25.22148,\n",
       "       26.12271, 21.58017, 22.46261, 11.42769, 41.37425, 26.00523,\n",
       "       34.03725, 10.6366 , 12.48866, 44.82776, 12.13991, 22.06773,\n",
       "       18.04034, 20.44125, 19.93126, 23.89223, 17.53564, 14.50063,\n",
       "       13.06439, 30.65777, 22.47702, 22.70973, 15.21814, 15.35585,\n",
       "       27.37919, 12.97707, 21.53082, 21.99896, 27.31175, 22.70742,\n",
       "       20.54252,  7.85026, 39.75661, 22.25061, 27.63067, 23.98383,\n",
       "       13.34893, 33.32681, 20.53179, 22.04325, 20.93868, 18.63267,\n",
       "       16.93723, 35.70624, 26.47131,  7.86553, 20.27122, 16.69985,\n",
       "       23.2581 , 20.43074, 19.79282, 11.78165, 22.27381, 34.33346,\n",
       "       43.70645, 19.40161, 35.90264, 23.41003, 24.57799, 21.28504,\n",
       "       21.56129, 26.47648, 14.02819, 24.79677, 21.89328, 42.15225,\n",
       "       22.28735, 13.48294, 22.89256, 12.83332, 18.09629, 17.89117,\n",
       "       41.92532, 18.07973, 23.5021 , 23.54949, 21.98933, 25.85282,\n",
       "       16.27315, 33.23939, 22.84276, 22.03295, 21.52035, 19.4315 ,\n",
       "       15.43323])"
      ]
     },
     "execution_count": 9,
     "metadata": {},
     "output_type": "execute_result"
    }
   ],
   "source": [
    "for i in range(len(y_pred)):\n",
    "    y_pred[i]=round(y_pred[i],5)\n",
    "y_pred"
   ]
  },
  {
   "cell_type": "code",
   "execution_count": 10,
   "id": "5e1690b5",
   "metadata": {},
   "outputs": [],
   "source": [
    "np.savetxt('Prediction.csv',y_pred,delimiter=',')\n",
    "import pandas as pd\n",
    "df=pd.read_csv('Prediction.csv')\n",
    "df.rename(columns={0:'predictions'},inplace=True)\n",
    "df.to_csv('Prediction_final.csv',index=False)"
   ]
  }
 ],
 "metadata": {
  "kernelspec": {
   "display_name": "Python 3 (ipykernel)",
   "language": "python",
   "name": "python3"
  },
  "language_info": {
   "codemirror_mode": {
    "name": "ipython",
    "version": 3
   },
   "file_extension": ".py",
   "mimetype": "text/x-python",
   "name": "python",
   "nbconvert_exporter": "python",
   "pygments_lexer": "ipython3",
   "version": "3.10.9"
  }
 },
 "nbformat": 4,
 "nbformat_minor": 5
}
